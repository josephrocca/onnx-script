{
 "cells": [
  {
   "cell_type": "code",
   "execution_count": null,
   "metadata": {},
   "outputs": [],
   "source": [
    "!pip install numpy\n",
    "#!pip install onnx onnxruntime pytest"
   ]
  },
  {
   "cell_type": "code",
   "execution_count": null,
   "metadata": {},
   "outputs": [],
   "source": [
    "!pip install -e ."
   ]
  },
  {
   "cell_type": "code",
   "execution_count": 1,
   "metadata": {},
   "outputs": [
    {
     "ename": "ImportError",
     "evalue": "cannot import name 'MapProto' from 'onnx.onnxproto' (/workspaces/onnx-script/onnx/onnxproto.py)",
     "output_type": "error",
     "traceback": [
      "\u001b[0;31m---------------------------------------------------------------------------\u001b[0m",
      "\u001b[0;31mImportError\u001b[0m                               Traceback (most recent call last)",
      "Cell \u001b[0;32mIn[1], line 14\u001b[0m\n\u001b[1;32m     10\u001b[0m \u001b[39m#%%\u001b[39;00m\n\u001b[1;32m     11\u001b[0m \u001b[39m# First, we define the implementation of a square-loss function in onnxscript.\u001b[39;00m\n\u001b[1;32m     13\u001b[0m \u001b[39mimport\u001b[39;00m \u001b[39mnumpy\u001b[39;00m \u001b[39mas\u001b[39;00m \u001b[39mnp\u001b[39;00m\n\u001b[0;32m---> 14\u001b[0m \u001b[39mimport\u001b[39;00m \u001b[39monnx\u001b[39;00m\n\u001b[1;32m     15\u001b[0m \u001b[39mfrom\u001b[39;00m \u001b[39monnxruntime\u001b[39;00m \u001b[39mimport\u001b[39;00m InferenceSession\n\u001b[1;32m     17\u001b[0m \u001b[39mfrom\u001b[39;00m \u001b[39monnxscript\u001b[39;00m \u001b[39mimport\u001b[39;00m FLOAT\n",
      "File \u001b[0;32m/workspaces/onnx-script/onnx/__init__.py:2\u001b[0m\n\u001b[1;32m      1\u001b[0m \u001b[39mfrom\u001b[39;00m \u001b[39m.\u001b[39;00m\u001b[39monnxproto\u001b[39;00m \u001b[39mimport\u001b[39;00m \u001b[39m*\u001b[39m\n\u001b[0;32m----> 2\u001b[0m \u001b[39mfrom\u001b[39;00m \u001b[39m.\u001b[39;00m \u001b[39mimport\u001b[39;00m helper\n",
      "File \u001b[0;32m/workspaces/onnx-script/onnx/helper.py:27\u001b[0m\n\u001b[1;32m     24\u001b[0m \u001b[39mimport\u001b[39;00m \u001b[39mgoogle\u001b[39;00m\u001b[39m.\u001b[39;00m\u001b[39mprotobuf\u001b[39;00m\u001b[39m.\u001b[39;00m\u001b[39mmessage\u001b[39;00m\n\u001b[1;32m     25\u001b[0m \u001b[39mimport\u001b[39;00m \u001b[39mnumpy\u001b[39;00m \u001b[39mas\u001b[39;00m \u001b[39mnp\u001b[39;00m\n\u001b[0;32m---> 27\u001b[0m \u001b[39mfrom\u001b[39;00m \u001b[39m.\u001b[39;00m\u001b[39monnxproto\u001b[39;00m \u001b[39mimport\u001b[39;00m (\n\u001b[1;32m     28\u001b[0m     \u001b[39m# IR_VERSION,\u001b[39;00m\n\u001b[1;32m     29\u001b[0m     AttributeProto,\n\u001b[1;32m     30\u001b[0m     FunctionProto,\n\u001b[1;32m     31\u001b[0m     GraphProto,\n\u001b[1;32m     32\u001b[0m     MapProto,\n\u001b[1;32m     33\u001b[0m     ModelProto,\n\u001b[1;32m     34\u001b[0m     NodeProto,\n\u001b[1;32m     35\u001b[0m     OperatorSetIdProto,\n\u001b[1;32m     36\u001b[0m     OptionalProto,\n\u001b[1;32m     37\u001b[0m     SequenceProto,\n\u001b[1;32m     38\u001b[0m     SparseTensorProto,\n\u001b[1;32m     39\u001b[0m     TensorProto,\n\u001b[1;32m     40\u001b[0m     TensorShapeProto,\n\u001b[1;32m     41\u001b[0m     TrainingInfoProto,\n\u001b[1;32m     42\u001b[0m     TypeProto,\n\u001b[1;32m     43\u001b[0m     ValueInfoProto,\n\u001b[1;32m     44\u001b[0m     \u001b[39m# defs,\u001b[39;00m\n\u001b[1;32m     45\u001b[0m     \u001b[39m# mapping,\u001b[39;00m\n\u001b[1;32m     46\u001b[0m )\n\u001b[1;32m     48\u001b[0m \u001b[39mimport\u001b[39;00m \u001b[39mmapping\u001b[39;00m\n\u001b[1;32m     49\u001b[0m IR_VERSION \u001b[39m=\u001b[39m \u001b[39m7\u001b[39m \u001b[39m# TODO: work out how to get proper value\u001b[39;00m\n",
      "\u001b[0;31mImportError\u001b[0m: cannot import name 'MapProto' from 'onnx.onnxproto' (/workspaces/onnx-script/onnx/onnxproto.py)"
     ]
    }
   ],
   "source": [
    "\"\"\"\n",
    "Generating a ModelProto\n",
    "=======================\n",
    "\n",
    "This example demonstrates the use of *onnx-script* to define an ONNX model.\n",
    "*onnx-script* behaves like a compiler. It converts a script into an ONNX model.\n",
    "\n",
    "\"\"\"\n",
    "\n",
    "#%%\n",
    "# First, we define the implementation of a square-loss function in onnxscript.\n",
    "\n",
    "import numpy as np\n",
    "import onnx\n",
    "from onnxruntime import InferenceSession\n",
    "\n",
    "from onnxscript import FLOAT\n",
    "from onnxscript import opset15 as op\n",
    "from onnxscript import proto2text, script\n",
    "\n",
    "\n",
    "@script()\n",
    "def square_loss(X: FLOAT[\"N\", 1], Y: FLOAT[\"N\", 1]) -> FLOAT[1, 1]:  # noqa: F821\n",
    "    diff = X - Y\n",
    "    return op.ReduceSum(diff * diff, keepdims=1)\n",
    "\n",
    "\n",
    "#%%\n",
    "# We can convert it to a model (an ONNX *ModelProto*) as follows:\n",
    "\n",
    "model = square_loss.to_model_proto()\n",
    "\n",
    "#%%\n",
    "# Let's see what the generated model looks like.\n",
    "print(proto2text(model))\n",
    "\n",
    "#%%\n",
    "# We can run shape-inference and type-check the model using the standard ONNX API.\n",
    "\n",
    "# model = onnx.shape_inference.infer_shapes(model)\n",
    "# onnx.checker.check_model(model)\n",
    "\n",
    "#%%\n",
    "# And finally, we can use *onnxruntime* to compute the outputs\n",
    "# based on this model, using the standard onnxruntime API.\n",
    "\n",
    "sess = InferenceSession(model.SerializeToString())\n",
    "\n",
    "X = np.array([[0, 1, 2]], dtype=np.float32).T\n",
    "Y = np.array([[0.1, 1.2, 2.3]], dtype=np.float32).T\n",
    "\n",
    "got = sess.run(None, {\"X\": X, \"Y\": Y})\n",
    "expected = ((X - Y) ** 2).sum()\n",
    "\n",
    "print(expected, got)"
   ]
  },
  {
   "cell_type": "code",
   "execution_count": null,
   "metadata": {},
   "outputs": [],
   "source": [
    "!wget https://raw.githubusercontent.com/onnx/onnx/f1cd4167d5ffd6e0ffbb2e9d58e8e831aeebb428/onnx/onnx.in.proto\n",
    "!sed 's/{PACKAGE_NAME}/onnx/g' onnx.in.proto"
   ]
  },
  {
   "cell_type": "code",
   "execution_count": 3,
   "metadata": {},
   "outputs": [
    {
     "name": "stdout",
     "output_type": "stream",
     "text": [
      "// SPDX-License-Identifier: Apache-2.0\n",
      "\n",
      "\n",
      "syntax = \"proto2\";\n",
      "\n",
      "package onnx;\n",
      "// #if ONNX-ML\n",
      "import \"onnx/onnx-ml.proto\";\n",
      "// #else\n",
      "import \"onnx/onnx.proto\";\n",
      "// #endif\n",
      "\n",
      "// This file contains the proto definitions for MapProto and\n",
      "// SequenceProto. These protos are used to represent the data structures\n",
      "// of maps and sequence for use in test data or ModelProto.\n",
      "\n",
      "// Sequences\n",
      "//\n",
      "// Defines a dense, ordered, collection of elements that are of homogeneous types.\n",
      "// Sequences can be made out of tensors, maps, or sequences.\n",
      "//\n",
      "// If a sequence is made out of tensors, the tensors must have the same element\n",
      "// type (i.e. int32). In some cases, the tensors in a sequence can have different\n",
      "// shapes.  Whether the tensors can have different shapes or not depends on the\n",
      "// type/shape associated with the corresponding \"ValueInfo\". For example,\n",
      "// \"Sequence<Tensor<float, [M,N]>\" means that all tensors have same shape. However,\n",
      "// \"Sequence<Tensor<float, [omitted,omitted]>\" means they can have different\n",
      "// shapes (all of rank 2), where \"omitted\" means the corresponding dimension has\n",
      "// no symbolic/constant value. Finally, \"Sequence<Tensor<float, omitted>>\" means\n",
      "// that the different tensors can have different ranks, when the \"shape\" itself\n",
      "// is omitted from the tensor-type. For a more complete description, refer to\n",
      "// https://github.com/onnx/onnx/blob/main/docs/IR.md#static-tensor-shapes.\n",
      "//\n",
      "message SequenceProto {\n",
      "\n",
      "  optional string name = 1;\n",
      "\n",
      "  enum DataType {\n",
      "    UNDEFINED = 0;\n",
      "    TENSOR = 1;\n",
      "    SPARSE_TENSOR = 2;\n",
      "    SEQUENCE = 3;\n",
      "    MAP = 4;\n",
      "    OPTIONAL = 5;\n",
      "  }\n",
      "\n",
      "  // The data type of the element.\n",
      "  // This field MUST have a valid SequenceProto.DataType value\n",
      "  optional int32 elem_type = 2;\n",
      "\n",
      "  // For TensorProto values.\n",
      "  // When this field is present, the elem_type field MUST be TENSOR.\n",
      "  repeated TensorProto tensor_values = 3;\n",
      "\n",
      "  // For SparseTensorProto values.\n",
      "  // When this field is present, the elem_type field MUST be SPARSE_TENSOR.\n",
      "  repeated SparseTensorProto sparse_tensor_values = 4;\n",
      "\n",
      "  // For SequenceProto values, allowing sequences to be of themselves.\n",
      "  // When this field is present, the elem_type field MUST be SEQUENCE.\n",
      "  repeated SequenceProto sequence_values = 5;\n",
      "\n",
      "  // For MapProto values.\n",
      "  // When this field is present, the elem_type field MUST be MAP.\n",
      "  repeated MapProto map_values = 6;\n",
      "\n",
      "  // For OptionalProto values.\n",
      "  // When this field is present, the elem_type field MUST be Optional.\n",
      "  repeated OptionalProto optional_values = 7;\n",
      "\n",
      "}\n",
      "\n",
      "\n",
      "// Maps\n",
      "//\n",
      "// Specifies an associative table, defined by keys and values.\n",
      "// MapProto is formed with a repeated field of keys (of type INT8, INT16, INT32,\n",
      "// INT64, UINT8, UINT16, UINT32, UINT64, or STRING) and values (of type TENSOR,\n",
      "// SPARSE_TENSOR, SEQUENCE, or MAP). Key types and value types have to remain\n",
      "// the same throughout the instantiation of the MapProto.\n",
      "//\n",
      "message MapProto {\n",
      "\n",
      "  optional string name = 1;\n",
      "\n",
      "  // All MapProto data types must have the same length of keys and values.\n",
      "\n",
      "  // The data type of the key.\n",
      "  // This field MUST have a valid TensorProto.DataType value of\n",
      "  // INT8, INT16, INT32, INT64, UINT8, UINT16, UINT32, UINT64, or STRING\n",
      "  optional int32 key_type = 2;\n",
      "\n",
      "  // Every element of keys has to be one of the following data types\n",
      "  // INT8, INT16, INT32, INT64, UINT8, UINT16, UINT32, UINT64, or STRING.\n",
      "  // The integer cases are represented by the repeated int64 field keys below.\n",
      "  repeated int64 keys = 3;\n",
      "\n",
      "  // If keys are strings, they are represented by the repeated bytes field\n",
      "  // string_keys below.\n",
      "  repeated bytes string_keys = 4;\n",
      "\n",
      "  // MapProto values are represented in a SequenceProto of the same length as the\n",
      "  // repeated keys field and have to be one of the following data types\n",
      "  // TENSOR, SPARSE_TENSOR, MAP, SEQUENCE.\n",
      "  optional SequenceProto values = 5;\n",
      "}\n",
      "\n",
      "// Optional\n",
      "//\n",
      "//\n",
      "message OptionalProto {\n",
      "\n",
      "  optional string name = 1;\n",
      "\n",
      "  enum DataType {\n",
      "    UNDEFINED = 0;\n",
      "    TENSOR = 1;\n",
      "    SPARSE_TENSOR = 2;\n",
      "    SEQUENCE = 3;\n",
      "    MAP = 4;\n",
      "    OPTIONAL = 5;\n",
      "  }\n",
      "\n",
      "  // The data type of the element, identifies if the OptionalProto value\n",
      "  // is Tensor, Sparse Tensor, Sequence, Map, or Optional.\n",
      "  // The type of the optional value MUST match the elem_type specified.\n",
      "  // This field MUST have a valid OptionalProto.DataType value.\n",
      "  optional int32 elem_type = 2;\n",
      "\n",
      "  // For TensorProto value.\n",
      "  // When this field is present, the elem_type field MUST be TENSOR.\n",
      "  optional TensorProto tensor_value = 3;\n",
      "\n",
      "  // For SparseTensorProto value.\n",
      "  // When this field is present, the elem_type field MUST be SPARSE_TENSOR.\n",
      "  optional SparseTensorProto sparse_tensor_value = 4;\n",
      "\n",
      "  // For SequenceProto value.\n",
      "  // When this field is present, the elem_type field MUST be SEQUENCE.\n",
      "  optional SequenceProto sequence_value = 5;\n",
      "\n",
      "  // For MapProto value.\n",
      "  // When this field is present, the elem_type field MUST be MAP.\n",
      "  optional MapProto map_value = 6;\n",
      "\n",
      "  // For OptionalProto value, allowing optional to be of itself (completeness)\n",
      "  // When this field is present, the elem_type field MUST be OPTIONAL.\n",
      "  optional OptionalProto optional_value = 7;\n",
      "\n",
      "}\n"
     ]
    }
   ],
   "source": [
    "!wget https://raw.githubusercontent.com/onnx/onnx/f1cd4167d5ffd6e0ffbb2e9d58e8e831aeebb428/onnx/onnx-data.in.proto\n",
    "!sed 's/{PACKAGE_NAME}/onnx/g' onnx-data.in.proto"
   ]
  },
  {
   "cell_type": "code",
   "execution_count": null,
   "metadata": {},
   "outputs": [],
   "source": [
    "!pip install grpcio-tools # just an easy way to install protoc, which we need to compile the proto files into python data class thingies"
   ]
  },
  {
   "cell_type": "code",
   "execution_count": 11,
   "metadata": {},
   "outputs": [
    {
     "name": "stdout",
     "output_type": "stream",
     "text": [
      "Requirement already satisfied: betterproto[compiler] in /usr/local/python/3.10.4/lib/python3.10/site-packages (1.2.5)\n",
      "Requirement already satisfied: stringcase in /usr/local/python/3.10.4/lib/python3.10/site-packages (from betterproto[compiler]) (1.2.0)\n",
      "Requirement already satisfied: grpclib in /usr/local/python/3.10.4/lib/python3.10/site-packages (from betterproto[compiler]) (0.4.3)\n",
      "Collecting black\n",
      "  Downloading black-22.12.0-cp310-cp310-manylinux_2_17_x86_64.manylinux2014_x86_64.whl (1.6 MB)\n",
      "\u001b[2K     \u001b[90m━━━━━━━━━━━━━━━━━━━━━━━━━━━━━━━━━━━━━━━━\u001b[0m \u001b[32m1.6/1.6 MB\u001b[0m \u001b[31m29.1 MB/s\u001b[0m eta \u001b[36m0:00:00\u001b[0m:00:01\u001b[0m\n",
      "\u001b[?25hRequirement already satisfied: protobuf in /usr/local/python/3.10.4/lib/python3.10/site-packages (from betterproto[compiler]) (4.21.12)\n",
      "Requirement already satisfied: jinja2 in /home/codespace/.local/lib/python3.10/site-packages (from betterproto[compiler]) (3.1.2)\n",
      "Collecting click>=8.0.0\n",
      "  Downloading click-8.1.3-py3-none-any.whl (96 kB)\n",
      "\u001b[2K     \u001b[90m━━━━━━━━━━━━━━━━━━━━━━━━━━━━━━━━━━━━━━━━\u001b[0m \u001b[32m96.6/96.6 kB\u001b[0m \u001b[31m2.0 MB/s\u001b[0m eta \u001b[36m0:00:00\u001b[0mta \u001b[36m0:00:01\u001b[0m\n",
      "\u001b[?25hCollecting pathspec>=0.9.0\n",
      "  Downloading pathspec-0.10.3-py3-none-any.whl (29 kB)\n",
      "Requirement already satisfied: tomli>=1.1.0 in /home/codespace/.local/lib/python3.10/site-packages (from black->betterproto[compiler]) (2.0.1)\n",
      "Collecting mypy-extensions>=0.4.3\n",
      "  Downloading mypy_extensions-0.4.3-py2.py3-none-any.whl (4.5 kB)\n",
      "Requirement already satisfied: platformdirs>=2 in /home/codespace/.local/lib/python3.10/site-packages (from black->betterproto[compiler]) (2.5.4)\n",
      "Requirement already satisfied: multidict in /usr/local/python/3.10.4/lib/python3.10/site-packages (from grpclib->betterproto[compiler]) (6.0.4)\n",
      "Requirement already satisfied: h2<5,>=3.1.0 in /usr/local/python/3.10.4/lib/python3.10/site-packages (from grpclib->betterproto[compiler]) (4.1.0)\n",
      "Requirement already satisfied: MarkupSafe>=2.0 in /home/codespace/.local/lib/python3.10/site-packages (from jinja2->betterproto[compiler]) (2.1.1)\n",
      "Requirement already satisfied: hpack<5,>=4.0 in /usr/local/python/3.10.4/lib/python3.10/site-packages (from h2<5,>=3.1.0->grpclib->betterproto[compiler]) (4.0.0)\n",
      "Requirement already satisfied: hyperframe<7,>=6.0 in /usr/local/python/3.10.4/lib/python3.10/site-packages (from h2<5,>=3.1.0->grpclib->betterproto[compiler]) (6.0.1)\n",
      "Installing collected packages: mypy-extensions, pathspec, click, black\n",
      "Successfully installed black-22.12.0 click-8.1.3 mypy-extensions-0.4.3 pathspec-0.10.3\n"
     ]
    }
   ],
   "source": [
    "!pip install \"betterproto[compiler]\""
   ]
  },
  {
   "cell_type": "code",
   "execution_count": 15,
   "metadata": {},
   "outputs": [
    {
     "name": "stdout",
     "output_type": "stream",
     "text": [
      "Writing __init__.py\n",
      "Writing onnx.py\n"
     ]
    }
   ],
   "source": [
    "!mkdir onnxproto\n",
    "!python -m grpc_tools.protoc -I=. --python_betterproto_out=onnxproto onnx.in.proto"
   ]
  },
  {
   "cell_type": "code",
   "execution_count": 5,
   "metadata": {},
   "outputs": [
    {
     "name": "stdout",
     "output_type": "stream",
     "text": [
      "mkdir: cannot create directory ‘onnxprotodata’: File exists\n",
      "onnx/onnx-ml.proto: File not found.\n",
      "onnx/onnx.proto: File not found.\n",
      "onnx-data.in.proto:8:1: Import \"onnx/onnx-ml.proto\" was not found or had errors.\n",
      "onnx-data.in.proto:10:1: Import \"onnx/onnx.proto\" was not found or had errors.\n",
      "onnx-data.in.proto:53:12: \"TensorProto\" is not defined.\n",
      "onnx-data.in.proto:57:12: \"SparseTensorProto\" is not defined.\n",
      "onnx-data.in.proto:132:12: \"TensorProto\" is not defined.\n",
      "onnx-data.in.proto:136:12: \"SparseTensorProto\" is not defined.\n"
     ]
    }
   ],
   "source": [
    "!mkdir onnxprotodata\n",
    "!python -m grpc_tools.protoc -I=. --python_betterproto_out=onnxprotodata onnx-data.in.proto"
   ]
  }
 ],
 "metadata": {
  "kernelspec": {
   "display_name": "Python 3",
   "language": "python",
   "name": "python3"
  },
  "language_info": {
   "codemirror_mode": {
    "name": "ipython",
    "version": 3
   },
   "file_extension": ".py",
   "mimetype": "text/x-python",
   "name": "python",
   "nbconvert_exporter": "python",
   "pygments_lexer": "ipython3",
   "version": "3.10.4"
  },
  "orig_nbformat": 4,
  "vscode": {
   "interpreter": {
    "hash": "3ad933181bd8a04b432d3370b9dc3b0662ad032c4dfaa4e4f1596c548f763858"
   }
  }
 },
 "nbformat": 4,
 "nbformat_minor": 2
}
