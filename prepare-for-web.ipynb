{
 "cells": [
  {
   "cell_type": "code",
   "execution_count": null,
   "metadata": {},
   "outputs": [],
   "source": [
    "!pip install numpy pytest\n",
    "#!pip install onnx onnxruntime \n",
    "!pip install --pre -f https://onnxruntimepackages.z14.web.core.windows.net/onnx-function-experiment.html onnx-function-experiment\n",
    "!pip install --pre -f https://onnxruntimepackages.z14.web.core.windows.net/onnxruntime-function-experiment.html ort-function-experiment-nightly"
   ]
  },
  {
   "cell_type": "code",
   "execution_count": null,
   "metadata": {},
   "outputs": [],
   "source": [
    "!pip install -e ."
   ]
  },
  {
   "cell_type": "code",
   "execution_count": 2,
   "metadata": {},
   "outputs": [
    {
     "ename": "ModuleNotFoundError",
     "evalue": "No module named 'onnx.defs'",
     "output_type": "error",
     "traceback": [
      "\u001b[0;31m---------------------------------------------------------------------------\u001b[0m",
      "\u001b[0;31mModuleNotFoundError\u001b[0m                       Traceback (most recent call last)",
      "Cell \u001b[0;32mIn[2], line 17\u001b[0m\n\u001b[1;32m     14\u001b[0m \u001b[39mimport\u001b[39;00m \u001b[39monnx\u001b[39;00m\n\u001b[1;32m     15\u001b[0m \u001b[39mfrom\u001b[39;00m \u001b[39monnxruntime\u001b[39;00m \u001b[39mimport\u001b[39;00m InferenceSession\n\u001b[0;32m---> 17\u001b[0m \u001b[39mfrom\u001b[39;00m \u001b[39monnxscript\u001b[39;00m \u001b[39mimport\u001b[39;00m FLOAT\n\u001b[1;32m     18\u001b[0m \u001b[39mfrom\u001b[39;00m \u001b[39monnxscript\u001b[39;00m \u001b[39mimport\u001b[39;00m opset15 \u001b[39mas\u001b[39;00m op\n\u001b[1;32m     19\u001b[0m \u001b[39mfrom\u001b[39;00m \u001b[39monnxscript\u001b[39;00m \u001b[39mimport\u001b[39;00m proto2text, script\n",
      "File \u001b[0;32m/workspaces/onnx-script/onnxscript/__init__.py:7\u001b[0m\n\u001b[1;32m      1\u001b[0m \u001b[39m# -------------------------------------------------------------------------\u001b[39;00m\n\u001b[1;32m      2\u001b[0m \u001b[39m# Copyright (c) Microsoft Corporation. All rights reserved.\u001b[39;00m\n\u001b[1;32m      3\u001b[0m \u001b[39m# Licensed under the MIT License.\u001b[39;00m\n\u001b[1;32m      4\u001b[0m \u001b[39m# --------------------------------------------------------------------------\u001b[39;00m\n\u001b[1;32m      6\u001b[0m \u001b[39mfrom\u001b[39;00m \u001b[39m.\u001b[39;00m\u001b[39mbackend\u001b[39;00m\u001b[39m.\u001b[39;00m\u001b[39monnx_export\u001b[39;00m \u001b[39mimport\u001b[39;00m export2python \u001b[39mas\u001b[39;00m proto2python\n\u001b[0;32m----> 7\u001b[0m \u001b[39mfrom\u001b[39;00m \u001b[39m.\u001b[39;00m\u001b[39mmain\u001b[39;00m \u001b[39mimport\u001b[39;00m export_onnx_lib, graph, script\n\u001b[1;32m      9\u001b[0m \u001b[39m# isort: off\u001b[39;00m\n\u001b[1;32m     10\u001b[0m \u001b[39mfrom\u001b[39;00m \u001b[39m.\u001b[39;00m\u001b[39monnx_opset\u001b[39;00m \u001b[39mimport\u001b[39;00m (\n\u001b[1;32m     11\u001b[0m     opset1,\n\u001b[1;32m     12\u001b[0m     opset2,\n\u001b[0;32m   (...)\u001b[0m\n\u001b[1;32m     32\u001b[0m     default_opset,\n\u001b[1;32m     33\u001b[0m )\n",
      "File \u001b[0;32m/workspaces/onnx-script/onnxscript/main.py:17\u001b[0m\n\u001b[1;32m     14\u001b[0m \u001b[39mimport\u001b[39;00m \u001b[39monnx\u001b[39;00m\u001b[39m.\u001b[39;00m\u001b[39mhelper\u001b[39;00m\n\u001b[1;32m     16\u001b[0m \u001b[39mimport\u001b[39;00m \u001b[39monnxscript\u001b[39;00m\n\u001b[0;32m---> 17\u001b[0m \u001b[39mfrom\u001b[39;00m \u001b[39monnxscript\u001b[39;00m \u001b[39mimport\u001b[39;00m converter, values\n\u001b[1;32m     20\u001b[0m \u001b[39mdef\u001b[39;00m \u001b[39mget_src_and_ast\u001b[39m(f):\n\u001b[1;32m     21\u001b[0m     \u001b[39mtry\u001b[39;00m:\n",
      "File \u001b[0;32m/workspaces/onnx-script/onnxscript/converter.py:18\u001b[0m\n\u001b[1;32m     15\u001b[0m \u001b[39mfrom\u001b[39;00m \u001b[39monnx\u001b[39;00m \u001b[39mimport\u001b[39;00m helper, numpy_helper\n\u001b[1;32m     17\u001b[0m \u001b[39mimport\u001b[39;00m \u001b[39monnxscript\u001b[39;00m\n\u001b[0;32m---> 18\u001b[0m \u001b[39mfrom\u001b[39;00m \u001b[39monnxscript\u001b[39;00m \u001b[39mimport\u001b[39;00m analysis, autocast, irbuilder, onnx_types, sourceinfo\n\u001b[1;32m     19\u001b[0m \u001b[39mfrom\u001b[39;00m \u001b[39monnxscript\u001b[39;00m \u001b[39mimport\u001b[39;00m type_annotation \u001b[39mas\u001b[39;00m ta\n\u001b[1;32m     20\u001b[0m \u001b[39mfrom\u001b[39;00m \u001b[39monnxscript\u001b[39;00m \u001b[39mimport\u001b[39;00m values\n",
      "File \u001b[0;32m/workspaces/onnx-script/onnxscript/autocast.py:4\u001b[0m\n\u001b[1;32m      1\u001b[0m \u001b[39mfrom\u001b[39;00m \u001b[39m__future__\u001b[39;00m \u001b[39mimport\u001b[39;00m annotations\n\u001b[1;32m      3\u001b[0m \u001b[39mimport\u001b[39;00m \u001b[39mnumpy\u001b[39;00m \u001b[39mas\u001b[39;00m \u001b[39mnp\u001b[39;00m\n\u001b[0;32m----> 4\u001b[0m \u001b[39mfrom\u001b[39;00m \u001b[39monnx\u001b[39;00m\u001b[39m.\u001b[39;00m\u001b[39mdefs\u001b[39;00m \u001b[39mimport\u001b[39;00m OpSchema\n\u001b[1;32m      6\u001b[0m \u001b[39mfrom\u001b[39;00m \u001b[39monnxscript\u001b[39;00m \u001b[39mimport\u001b[39;00m tensor, values\n\u001b[1;32m      9\u001b[0m \u001b[39mdef\u001b[39;00m \u001b[39mcast_inputs\u001b[39m(get_type_info, cast, opschema, \u001b[39m*\u001b[39margs):\n",
      "\u001b[0;31mModuleNotFoundError\u001b[0m: No module named 'onnx.defs'"
     ]
    },
    {
     "name": "stderr",
     "output_type": "stream",
     "text": [
      "Bad pipe message: %s [b\"\\xfa\\xa2\\xa2\\xf4\\x17)\\xe8'\\x02K*\\x08\\xfa\\xee\\xb4\\xc3\\xda( \\xb4Q}\\x17k\\x07\\xdb\\xe9A-\\xcd\\x0bh\\x1by\\xf3\\x00>j\\x91\\x1d\\x1a\\x1a`\\x137Z1\\xe6\\xcc/\\x9f\\x00\\x08\\x13\\x02\\x13\\x03\\x13\\x01\\x00\\xff\\x01\\x00\\x00\\x8f\\x00\\x00\\x00\\x0e\\x00\\x0c\\x00\\x00\\t127.0.0.1\\x00\\x0b\\x00\\x04\\x03\\x00\\x01\\x02\\x00\\n\\x00\\x0c\\x00\\n\\x00\\x1d\\x00\\x17\\x00\\x1e\\x00\\x19\\x00\\x18\\x00#\\x00\\x00\\x00\\x16\\x00\\x00\\x00\\x17\\x00\\x00\\x00\\r\\x00\\x1e\\x00\\x1c\\x04\\x03\\x05\\x03\\x06\\x03\\x08\\x07\\x08\\x08\\x08\\t\\x08\\n\", b'\\x08\\x04\\x08\\x05\\x08\\x06\\x04', b'', b'']\n",
      "Bad pipe message: %s [b'']\n",
      "Bad pipe message: %s [b'\\x03\\x02\\x03\\x04\\x00-\\x00\\x02\\x01\\x01\\x003\\x00&\\x00$\\x00\\x1d\\x00 A~\\t\\xd1q\\xd6\\x0cg\\xc6\\xfaz\\x14Q^h\\xd7~\\x0b\\xca\\xe8z\\x95']\n",
      "Bad pipe message: %s [b'\\x1b}7Yt|c;\\xb2\\x16\\xee\\xbc\\xbcVo\\xe5\\r\\xd3\\x00\\x00|\\xc0,\\xc00\\x00\\xa3\\x00\\x9f\\xcc\\xa9\\xcc\\xa8\\xcc\\xaa\\xc0\\xaf\\xc0\\xad\\xc0\\xa3\\xc0\\x9f\\xc0]\\xc0a\\xc0W\\xc0S\\xc0+\\xc0/\\x00\\xa2\\x00\\x9e\\xc0\\xae\\xc0\\xac\\xc0\\xa2\\xc0\\x9e\\xc0\\\\\\xc0`\\xc0V\\xc0R']\n",
      "Bad pipe message: %s [b'u\\x07\\xd68-P\\x9a6\\xe7\\xe9\\xf4', b\"2\\x94\\xd8\\xa9j\\x00\\x00\\x86\\xc00\\xc0,\\xc0(\\xc0$\\xc0\\x14\\xc0\\n\\x00\\xa5\\x00\\xa3\\x00\\xa1\\x00\\x9f\\x00k\\x00j\\x00i\\x00h\\x009\\x008\\x007\\x006\\xc02\\xc0.\\xc0*\\xc0&\\xc0\\x0f\\xc0\\x05\\x00\\x9d\\x00=\\x005\\xc0/\\xc0+\\xc0'\\xc0#\\xc0\\x13\\xc0\\t\\x00\\xa4\\x00\\xa2\\x00\\xa0\\x00\\x9e\\x00g\\x00@\\x00?\\x00>\\x003\\x002\\x001\\x000\\xc01\\xc0-\\xc0)\\xc0%\\xc0\\x0e\\xc0\\x04\\x00\\x9c\\x00<\\x00/\\x00\\x9a\\x00\\x99\\x00\\x98\\x00\\x97\\x00\\x96\\x00\\x07\\xc0\\x11\\xc0\\x07\\xc0\\x0c\\xc0\\x02\\x00\\x05\\x00\\x04\\x00\\xff\\x02\\x01\\x00\\x00g\\x00\\x00\\x00\\x0e\\x00\\x0c\\x00\\x00\\t127.0\", b'.1\\x00\\x0b\\x00\\x04\\x03\\x00\\x01\\x02\\x00\\n\\x00\\x1c\\x00\\x1a\\x00\\x17\\x00\\x19\\x00\\x1c\\x00\\x1b\\x00\\x18\\x00\\x1a\\x00\\x16\\x00\\x0e\\x00\\r\\x00\\x0b\\x00\\x0c\\x00\\t\\x00\\n\\x00#\\x00']\n",
      "Bad pipe message: %s [b'3\\x07C3pSh\\x1c7[\\xd3\\xb3\\r\\x16\\xa7\\xfa\\x19\\xfb\\x00\\x00\\xa2\\xc0\\x14\\xc0\\n\\x009\\x008\\x007\\x006\\x00\\x88\\x00\\x87\\x00\\x86\\x00\\x85\\xc0\\x19\\x00:\\x00\\x89\\xc0\\x0f\\xc0\\x05\\x005\\x00\\x84\\xc0\\x13\\xc0\\t\\x003\\x002\\x001\\x000\\x00\\x9a\\x00\\x99\\x00\\x98\\x00\\x97\\x00E\\x00D\\x00C\\x00B\\xc0\\x18\\x004\\x00\\x9b\\x00F\\xc0\\x0e\\xc0\\x04\\x00/\\x00\\x96\\x00A\\x00\\x07\\xc0\\x11\\xc0', b'\\x16\\x00\\x18\\xc0\\x0c\\xc0']\n",
      "Bad pipe message: %s [b'\\xe9*\\xd2tu\\r\\x7f\\xf7*\\xef\\xbb\\x90\\xc7k\\x84\\x90\\x9a\\x9d\\x00\\x00\\xa2\\xc0\\x14\\xc0\\n\\x009\\x008\\x007\\x006\\x00\\x88\\x00\\x87\\x00\\x86\\x00\\x85\\xc0\\x19\\x00:\\x00\\x89\\xc0\\x0f\\xc0\\x05\\x005\\x00\\x84\\xc0\\x13\\xc0\\t\\x003\\x002\\x001\\x000\\x00\\x9a\\x00\\x99\\x00\\x98\\x00\\x97\\x00E\\x00D\\x00C\\x00B\\xc0\\x18\\x004\\x00\\x9b\\x00F\\xc0\\x0e\\xc0\\x04\\x00/\\x00\\x96\\x00A\\x00\\x07\\xc0\\x11\\xc0\\x07\\xc0\\x16\\x00\\x18\\xc0\\x0c\\xc0\\x02\\x00\\x05\\x00\\x04\\xc0\\x12\\xc0\\x08\\x00\\x16\\x00\\x13\\x00\\x10\\x00\\r\\xc0\\x17\\x00\\x1b\\xc0\\r\\xc0\\x03\\x00\\n\\x00\\x15\\x00\\x12\\x00\\x0f\\x00\\x0c\\x00\\x1a\\x00\\t\\x00\\x14\\x00\\x11\\x00\\x19\\x00\\x08\\x00\\x06\\x00\\x17\\x00\\x03\\xc0\\x10\\xc0\\x06\\xc0\\x15\\xc0\\x0b\\xc0\\x01\\x00\\x02\\x00\\x01\\x00\\xff\\x02\\x01\\x00\\x00C\\x00\\x00\\x00']\n",
      "Bad pipe message: %s [b'n\\x89G>p\\x9b\\x95\\xb2\\x9f-\\xea5yy\\xd2Id\\xb3\\x00\\x00>\\xc0\\x14\\xc0\\n\\x009\\x008\\x007\\x006\\xc0\\x0f\\xc0\\x05\\x005\\xc0\\x13\\xc0\\t\\x003\\x002\\x001\\x000\\xc0\\x0e\\xc0\\x04\\x00/\\x00\\x9a\\x00\\x99\\x00\\x98\\x00\\x97\\x00\\x96\\x00\\x07\\xc0\\x11\\xc0\\x07\\xc0\\x0c\\xc0\\x02\\x00\\x05\\x00\\x04\\x00\\xff\\x02\\x01\\x00\\x00C\\x00\\x00\\x00\\x0e\\x00\\x0c\\x00\\x00\\t127.0.0.1\\x00\\x0b\\x00\\x04\\x03\\x00\\x01\\x02\\x00\\n\\x00\\x1c\\x00\\x1a\\x00\\x17\\x00\\x19\\x00\\x1c\\x00\\x1b\\x00\\x18\\x00\\x1a\\x00\\x16\\x00\\x0e\\x00', b'\\x0b\\x00\\x0c\\x00\\t\\x00\\n\\x00#\\x00\\x00\\x00']\n",
      "Bad pipe message: %s [b'\\xfb75Nz\\x06\\xdbw\\xc0\\xbc\\x80FD\\xc3\\x7f\\x0e\\xa1\\xcc\\x00\\x00\\xa2\\xc0\\x14\\xc0\\n\\x009\\x008\\x007\\x006\\x00\\x88\\x00\\x87\\x00\\x86\\x00\\x85\\xc0\\x19\\x00:\\x00\\x89\\xc0\\x0f\\xc0\\x05\\x005\\x00\\x84\\xc0\\x13\\xc0\\t\\x003\\x002\\x001\\x000\\x00\\x9a\\x00\\x99\\x00\\x98\\x00\\x97\\x00E\\x00D\\x00C\\x00B\\xc0\\x18\\x004\\x00\\x9b\\x00F\\xc0\\x0e\\xc0\\x04\\x00/\\x00\\x96\\x00A\\x00\\x07\\xc0\\x11\\xc0\\x07\\xc0\\x16\\x00\\x18\\xc0\\x0c\\xc0\\x02\\x00\\x05\\x00\\x04\\xc0\\x12\\xc0\\x08\\x00\\x16\\x00\\x13\\x00\\x10\\x00\\r\\xc0\\x17\\x00\\x1b\\xc0\\r\\xc0\\x03\\x00\\n\\x00\\x15\\x00\\x12\\x00\\x0f\\x00\\x0c\\x00\\x1a\\x00\\t\\x00\\x14\\x00\\x11\\x00\\x19\\x00\\x08\\x00\\x06\\x00\\x17\\x00\\x03\\xc0\\x10\\xc0\\x06\\xc0\\x15\\xc0\\x0b\\xc0\\x01\\x00\\x02\\x00\\x01\\x00\\xff\\x02\\x01\\x00\\x00C\\x00\\x00\\x00\\x0e\\x00\\x0c\\x00\\x00\\t127.0.0.1\\x00\\x0b\\x00\\x04\\x03\\x00\\x01\\x02\\x00\\n']\n",
      "Bad pipe message: %s [b'\\x0c\\x00\\x00\\t127.0.0.1']\n",
      "Bad pipe message: %s [b'\\x05']\n"
     ]
    }
   ],
   "source": [
    "\"\"\"\n",
    "Generating a ModelProto\n",
    "=======================\n",
    "\n",
    "This example demonstrates the use of *onnx-script* to define an ONNX model.\n",
    "*onnx-script* behaves like a compiler. It converts a script into an ONNX model.\n",
    "\n",
    "\"\"\"\n",
    "\n",
    "#%%\n",
    "# First, we define the implementation of a square-loss function in onnxscript.\n",
    "\n",
    "import numpy as np\n",
    "import onnx\n",
    "from onnxruntime import InferenceSession\n",
    "\n",
    "from onnxscript import FLOAT\n",
    "from onnxscript import opset15 as op\n",
    "from onnxscript import proto2text, script\n",
    "\n",
    "\n",
    "@script()\n",
    "def square_loss(X: FLOAT[\"N\", 1], Y: FLOAT[\"N\", 1]) -> FLOAT[1, 1]:  # noqa: F821\n",
    "    diff = X - Y\n",
    "    return op.ReduceSum(diff * diff, keepdims=1)\n",
    "\n",
    "\n",
    "#%%\n",
    "# We can convert it to a model (an ONNX *ModelProto*) as follows:\n",
    "\n",
    "model = square_loss.to_model_proto()\n",
    "\n",
    "#%%\n",
    "# Let's see what the generated model looks like.\n",
    "print(proto2text(model))\n",
    "\n",
    "#%%\n",
    "# We can run shape-inference and type-check the model using the standard ONNX API.\n",
    "\n",
    "# model = onnx.shape_inference.infer_shapes(model)\n",
    "# onnx.checker.check_model(model)\n",
    "\n",
    "#%%\n",
    "# And finally, we can use *onnxruntime* to compute the outputs\n",
    "# based on this model, using the standard onnxruntime API.\n",
    "\n",
    "sess = InferenceSession(model.SerializeToString())\n",
    "\n",
    "X = np.array([[0, 1, 2]], dtype=np.float32).T\n",
    "Y = np.array([[0.1, 1.2, 2.3]], dtype=np.float32).T\n",
    "\n",
    "got = sess.run(None, {\"X\": X, \"Y\": Y})\n",
    "expected = ((X - Y) ** 2).sum()\n",
    "\n",
    "print(expected, got)"
   ]
  },
  {
   "cell_type": "code",
   "execution_count": null,
   "metadata": {},
   "outputs": [],
   "source": [
    "!wget https://raw.githubusercontent.com/onnx/onnx/f1cd4167d5ffd6e0ffbb2e9d58e8e831aeebb428/onnx/onnx.in.proto\n",
    "!sed 's/{PACKAGE_NAME}/onnx/g' onnx.in.proto\n",
    "!wget https://raw.githubusercontent.com/onnx/onnx/f1cd4167d5ffd6e0ffbb2e9d58e8e831aeebb428/onnx/onnx-data.in.proto"
   ]
  },
  {
   "cell_type": "code",
   "execution_count": null,
   "metadata": {},
   "outputs": [],
   "source": [
    "# NOW MANUALLY ADD THE CODE FROM onnx-data.in.proto TO onnx.in.proto (without the `package`/`syntax` stuff)"
   ]
  },
  {
   "cell_type": "code",
   "execution_count": null,
   "metadata": {},
   "outputs": [],
   "source": [
    "!pip install grpcio-tools # just an easy way to install protoc, which we need to compile the proto files into python data class thingies"
   ]
  },
  {
   "cell_type": "code",
   "execution_count": 11,
   "metadata": {},
   "outputs": [
    {
     "name": "stdout",
     "output_type": "stream",
     "text": [
      "Requirement already satisfied: betterproto[compiler] in /usr/local/python/3.10.4/lib/python3.10/site-packages (1.2.5)\n",
      "Requirement already satisfied: stringcase in /usr/local/python/3.10.4/lib/python3.10/site-packages (from betterproto[compiler]) (1.2.0)\n",
      "Requirement already satisfied: grpclib in /usr/local/python/3.10.4/lib/python3.10/site-packages (from betterproto[compiler]) (0.4.3)\n",
      "Collecting black\n",
      "  Downloading black-22.12.0-cp310-cp310-manylinux_2_17_x86_64.manylinux2014_x86_64.whl (1.6 MB)\n",
      "\u001b[2K     \u001b[90m━━━━━━━━━━━━━━━━━━━━━━━━━━━━━━━━━━━━━━━━\u001b[0m \u001b[32m1.6/1.6 MB\u001b[0m \u001b[31m29.1 MB/s\u001b[0m eta \u001b[36m0:00:00\u001b[0m:00:01\u001b[0m\n",
      "\u001b[?25hRequirement already satisfied: protobuf in /usr/local/python/3.10.4/lib/python3.10/site-packages (from betterproto[compiler]) (4.21.12)\n",
      "Requirement already satisfied: jinja2 in /home/codespace/.local/lib/python3.10/site-packages (from betterproto[compiler]) (3.1.2)\n",
      "Collecting click>=8.0.0\n",
      "  Downloading click-8.1.3-py3-none-any.whl (96 kB)\n",
      "\u001b[2K     \u001b[90m━━━━━━━━━━━━━━━━━━━━━━━━━━━━━━━━━━━━━━━━\u001b[0m \u001b[32m96.6/96.6 kB\u001b[0m \u001b[31m2.0 MB/s\u001b[0m eta \u001b[36m0:00:00\u001b[0mta \u001b[36m0:00:01\u001b[0m\n",
      "\u001b[?25hCollecting pathspec>=0.9.0\n",
      "  Downloading pathspec-0.10.3-py3-none-any.whl (29 kB)\n",
      "Requirement already satisfied: tomli>=1.1.0 in /home/codespace/.local/lib/python3.10/site-packages (from black->betterproto[compiler]) (2.0.1)\n",
      "Collecting mypy-extensions>=0.4.3\n",
      "  Downloading mypy_extensions-0.4.3-py2.py3-none-any.whl (4.5 kB)\n",
      "Requirement already satisfied: platformdirs>=2 in /home/codespace/.local/lib/python3.10/site-packages (from black->betterproto[compiler]) (2.5.4)\n",
      "Requirement already satisfied: multidict in /usr/local/python/3.10.4/lib/python3.10/site-packages (from grpclib->betterproto[compiler]) (6.0.4)\n",
      "Requirement already satisfied: h2<5,>=3.1.0 in /usr/local/python/3.10.4/lib/python3.10/site-packages (from grpclib->betterproto[compiler]) (4.1.0)\n",
      "Requirement already satisfied: MarkupSafe>=2.0 in /home/codespace/.local/lib/python3.10/site-packages (from jinja2->betterproto[compiler]) (2.1.1)\n",
      "Requirement already satisfied: hpack<5,>=4.0 in /usr/local/python/3.10.4/lib/python3.10/site-packages (from h2<5,>=3.1.0->grpclib->betterproto[compiler]) (4.0.0)\n",
      "Requirement already satisfied: hyperframe<7,>=6.0 in /usr/local/python/3.10.4/lib/python3.10/site-packages (from h2<5,>=3.1.0->grpclib->betterproto[compiler]) (6.0.1)\n",
      "Installing collected packages: mypy-extensions, pathspec, click, black\n",
      "Successfully installed black-22.12.0 click-8.1.3 mypy-extensions-0.4.3 pathspec-0.10.3\n"
     ]
    }
   ],
   "source": [
    "!pip install \"betterproto[compiler]\""
   ]
  },
  {
   "cell_type": "code",
   "execution_count": 2,
   "metadata": {},
   "outputs": [
    {
     "name": "stdout",
     "output_type": "stream",
     "text": [
      "mkdir: cannot create directory ‘onnxproto’: File exists\n",
      "Writing __init__.py\n",
      "Writing onnx.py\n"
     ]
    }
   ],
   "source": [
    "!mkdir onnxproto\n",
    "!python -m grpc_tools.protoc -I=. --python_betterproto_out=onnxproto onnx.in.proto"
   ]
  },
  {
   "cell_type": "code",
   "execution_count": null,
   "metadata": {},
   "outputs": [],
   "source": [
    "# NOW MANUALLY MOVE THE CONTENTS OF onnxproto/onnx.py TO onnx/onnxproto.py"
   ]
  },
  {
   "cell_type": "code",
   "execution_count": 2,
   "metadata": {},
   "outputs": [],
   "source": [
    "!mkdir onnxprotogoogle\n",
    "!python -m grpc_tools.protoc -I=. --python_out=onnxprotogoogle onnx.in.proto"
   ]
  },
  {
   "cell_type": "code",
   "execution_count": 2,
   "metadata": {},
   "outputs": [
    {
     "name": "stdout",
     "output_type": "stream",
     "text": [
      "--2023-01-05 04:23:24--  https://raw.githubusercontent.com/onnx/onnx/f1cd4167d5ffd6e0ffbb2e9d58e8e831aeebb428/onnx/numpy_helper.py\n",
      "Resolving raw.githubusercontent.com (raw.githubusercontent.com)... 185.199.109.133, 185.199.110.133, 185.199.111.133, ...\n",
      "Connecting to raw.githubusercontent.com (raw.githubusercontent.com)|185.199.109.133|:443... connected.\n",
      "HTTP request sent, awaiting response... 200 OK\n",
      "Length: 14129 (14K) [text/plain]\n",
      "Saving to: ‘numpy_helper.py’\n",
      "\n",
      "numpy_helper.py     100%[===================>]  13.80K  --.-KB/s    in 0.001s  \n",
      "\n",
      "2023-01-05 04:23:24 (26.1 MB/s) - ‘numpy_helper.py’ saved [14129/14129]\n",
      "\n"
     ]
    }
   ],
   "source": [
    "!cd onnx && wget https://raw.githubusercontent.com/onnx/onnx/f1cd4167d5ffd6e0ffbb2e9d58e8e831aeebb428/onnx/numpy_helper.py"
   ]
  }
 ],
 "metadata": {
  "kernelspec": {
   "display_name": "Python 3",
   "language": "python",
   "name": "python3"
  },
  "language_info": {
   "codemirror_mode": {
    "name": "ipython",
    "version": 3
   },
   "file_extension": ".py",
   "mimetype": "text/x-python",
   "name": "python",
   "nbconvert_exporter": "python",
   "pygments_lexer": "ipython3",
   "version": "3.10.4"
  },
  "orig_nbformat": 4,
  "vscode": {
   "interpreter": {
    "hash": "3ad933181bd8a04b432d3370b9dc3b0662ad032c4dfaa4e4f1596c548f763858"
   }
  }
 },
 "nbformat": 4,
 "nbformat_minor": 2
}
